{
 "cells": [
  {
   "cell_type": "markdown",
   "metadata": {},
   "source": [
    "# Loan  prediction#\n",
    "Here we will predict whether the loan can be granted or not using various features.Here we will train the model by using on train.csv dataset using Gaussian Naive Bayes classifier as the data is continuous.And then we will predict the loan defaulters on separate dataset named 'test.csv'."
   ]
  },
  {
   "cell_type": "code",
   "execution_count": 9,
   "metadata": {},
   "outputs": [],
   "source": [
    "import pandas as pd\n",
    "import numpy as np\n",
    "from sklearn.model_selection import train_test_split\n",
    "from sklearn.naive_bayes import GaussianNB\n",
    "from sklearn.metrics import accuracy_score"
   ]
  },
  {
   "cell_type": "code",
   "execution_count": 4,
   "metadata": {},
   "outputs": [],
   "source": [
    "# Here we will preprocess our given data and will assign indexes 0 or 1 to categorical data\n",
    "def preprocessor(datafile):\n",
    "    data=pd.read_csv(datafile,delimiter=',')\n",
    "    data=data.dropna()\n",
    "    data=data.drop(['Loan_ID'],axis=1)\n",
    "    data.replace('Male',1,inplace=True)\n",
    "    data.replace('Female',0,inplace=True)\n",
    "    data.replace('Graduate',1,inplace=True)\n",
    "    data.replace('Not Graduate',0,inplace=True)\n",
    "    data['Married'].replace('Yes',1,inplace=True)\n",
    "    data['Married'].replace('No',0,inplace=True)\n",
    "    data['Self_Employed'].replace('Yes',1,inplace=True)\n",
    "    data['Self_Employed'].replace('No',0,inplace=True)\n",
    "    data.replace('Urban',1,inplace=True)\n",
    "    data.replace('Semiurban',2,inplace=True)\n",
    "    data.replace('Rural',3,inplace=True)\n",
    "    data['Dependents'].replace('3+',3,inplace=True)\n",
    "    if(datafile=='train.csv'):\n",
    "        data['Loan_Status'].replace('Y',1,inplace=True)\n",
    "        data['Loan_Status'].replace('N',0,inplace=True)\n",
    "    dat=data.values\n",
    "    if(datafile=='train.csv'):\n",
    "        X=dat[:,:11]\n",
    "        Y=dat[:,11]\n",
    "        Y=Y.astype('int')\n",
    "        Xtr,Xte,Ytr,Yte= train_test_split(X,Y,test_size=0.33)\n",
    "        return Xtr,Xte,Ytr,Yte\n",
    "    elif(datafile=='test.csv'):\n",
    "        X=dat[:,:]\n",
    "        return X\n",
    "        \n",
    "    \n",
    "    "
   ]
  },
  {
   "cell_type": "code",
   "execution_count": 7,
   "metadata": {},
   "outputs": [],
   "source": [
    "#Predict whether loan can be granted or not\n",
    "def loan_pred(df1,df2):\n",
    "    xtr,xte,ytr,yte=preprocessor(df1)\n",
    "    x2=preprocessor(df2)\n",
    "    lr=GaussianNB()\n",
    "    lr.fit(xtr,ytr)\n",
    "    print('Accuracy of training dataset ',accuracy_score(yte,lr.predict(xte)))\n",
    "    Status=pd.Series(lr.predict(x2))\n",
    "    data=pd.read_csv('test.csv',delimiter=',')\n",
    "    data=data.dropna()\n",
    "    data=data.drop(['Loan_ID'],axis=1)\n",
    "    data.replace('Male',1,inplace=True)\n",
    "    data.replace('Female',0,inplace=True)\n",
    "    data.replace('Graduate',1,inplace=True)\n",
    "    data.replace('Not Graduate',0,inplace=True)\n",
    "    data['Married'].replace('Yes',1,inplace=True)\n",
    "    data['Married'].replace('No',0,inplace=True)\n",
    "    data['Self_Employed'].replace('Yes',1,inplace=True)\n",
    "    data['Self_Employed'].replace('No',0,inplace=True)\n",
    "    data.replace('Urban',1,inplace=True)\n",
    "    data.replace('Semiurban',2,inplace=True)\n",
    "    data.replace('Rural',3,inplace=True)\n",
    "    data['Dependents'].replace('3+',3,inplace=True)\n",
    "    df1 = pd.DataFrame(data=Status, columns=['Loan_St'])\n",
    "    df = pd.merge(data, df1, left_index=True, right_index=True)\n",
    "    return df"
   ]
  },
  {
   "cell_type": "code",
   "execution_count": 8,
   "metadata": {},
   "outputs": [],
   "source": [
    "#Here we will display the test.csv dataset along with separate column for Loan Status\n",
    "predicted=loan_pred('train.csv','test.csv')\n",
    "predicted['Loan_St'].replace(1,'Y',inplace=True)\n",
    "predicted['Loan_St'].replace(0,'N',inplace=True)\n",
    "predicted['Gender'].replace(1,'Male',inplace=True)\n",
    "predicted['Gender'].replace(0,'Female',inplace=True)\n",
    "predicted['Education'].replace(1,'Graduate',inplace=True)\n",
    "predicted['Education'].replace(0,'Not Graduate',inplace=True)\n",
    "predicted['Married'].replace(1,'Yes',inplace=True)\n",
    "predicted['Married'].replace(0,'No',inplace=True)\n",
    "predicted['Self_Employed'].replace(1,'Yes',inplace=True)\n",
    "predicted['Self_Employed'].replace(0,'No',inplace=True)\n",
    "predicted['Property_Area'].replace(1,'Urban',inplace=True)\n",
    "predicted['Property_Area'].replace(2,'Semiurban',inplace=True)\n",
    "predicted['Property_Area'].replace(3,'Rural',inplace=True)\n",
    "predicted['Dependents'].replace(3,'3+',inplace=True)\n",
    "print('Predicted loan defaulters data is')\n",
    "predicted"
   ]
  }
 ],
 "metadata": {
  "kernelspec": {
   "display_name": "Python 3",
   "language": "python",
   "name": "python3"
  },
  "language_info": {
   "codemirror_mode": {
    "name": "ipython",
    "version": 3
   },
   "file_extension": ".py",
   "mimetype": "text/x-python",
   "name": "python",
   "nbconvert_exporter": "python",
   "pygments_lexer": "ipython3",
   "version": "3.6.4"
  }
 },
 "nbformat": 4,
 "nbformat_minor": 2
}
